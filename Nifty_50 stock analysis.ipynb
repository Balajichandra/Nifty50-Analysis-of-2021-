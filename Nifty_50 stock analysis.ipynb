{
 "cells": [
  {
   "cell_type": "code",
   "execution_count": 1,
   "id": "8d058ec1",
   "metadata": {},
   "outputs": [],
   "source": [
    "import numpy as np\n",
    "import pandas as pd\n",
    "import matplotlib.pyplot as plt\n",
    "import seaborn as sns\n",
    "import plotly as py\n",
    "import plotly.tools as tls\n",
    "%matplotlib inline"
   ]
  },
  {
   "cell_type": "code",
   "execution_count": 2,
   "id": "74869ba9",
   "metadata": {},
   "outputs": [
    {
     "data": {
      "text/html": [
       "<div>\n",
       "<style scoped>\n",
       "    .dataframe tbody tr th:only-of-type {\n",
       "        vertical-align: middle;\n",
       "    }\n",
       "\n",
       "    .dataframe tbody tr th {\n",
       "        vertical-align: top;\n",
       "    }\n",
       "\n",
       "    .dataframe thead th {\n",
       "        text-align: right;\n",
       "    }\n",
       "</style>\n",
       "<table border=\"1\" class=\"dataframe\">\n",
       "  <thead>\n",
       "    <tr style=\"text-align: right;\">\n",
       "      <th></th>\n",
       "      <th>Symbol</th>\n",
       "      <th>Open</th>\n",
       "      <th>High</th>\n",
       "      <th>Low</th>\n",
       "      <th>LTP</th>\n",
       "      <th>Chng</th>\n",
       "      <th>% Chng</th>\n",
       "      <th>Volume (lacs)</th>\n",
       "      <th>Turnover (crs.)</th>\n",
       "      <th>52w H</th>\n",
       "      <th>52w L</th>\n",
       "      <th>365 d % chng</th>\n",
       "      <th>30 d % chng</th>\n",
       "    </tr>\n",
       "  </thead>\n",
       "  <tbody>\n",
       "    <tr>\n",
       "      <th>0</th>\n",
       "      <td>ADANIPORTS</td>\n",
       "      <td>750</td>\n",
       "      <td>766</td>\n",
       "      <td>713.25</td>\n",
       "      <td>715</td>\n",
       "      <td>-47.45</td>\n",
       "      <td>-6.22</td>\n",
       "      <td>72.20</td>\n",
       "      <td>532.63</td>\n",
       "      <td>901</td>\n",
       "      <td>384.4</td>\n",
       "      <td>79.22</td>\n",
       "      <td>-4.65</td>\n",
       "    </tr>\n",
       "    <tr>\n",
       "      <th>1</th>\n",
       "      <td>ASIANPAINT</td>\n",
       "      <td>3,101.00</td>\n",
       "      <td>3,167.35</td>\n",
       "      <td>3,091.00</td>\n",
       "      <td>3,138.00</td>\n",
       "      <td>-6.25</td>\n",
       "      <td>-0.20</td>\n",
       "      <td>10.29</td>\n",
       "      <td>322.53</td>\n",
       "      <td>3,505.00</td>\n",
       "      <td>2,117.15</td>\n",
       "      <td>45.66</td>\n",
       "      <td>5.66</td>\n",
       "    </tr>\n",
       "    <tr>\n",
       "      <th>2</th>\n",
       "      <td>AXISBANK</td>\n",
       "      <td>669</td>\n",
       "      <td>674.9</td>\n",
       "      <td>660.45</td>\n",
       "      <td>661</td>\n",
       "      <td>-18.90</td>\n",
       "      <td>-2.78</td>\n",
       "      <td>102.53</td>\n",
       "      <td>684</td>\n",
       "      <td>866.9</td>\n",
       "      <td>568.4</td>\n",
       "      <td>10.19</td>\n",
       "      <td>-21.49</td>\n",
       "    </tr>\n",
       "    <tr>\n",
       "      <th>3</th>\n",
       "      <td>BAJAJ-AUTO</td>\n",
       "      <td>3,370.00</td>\n",
       "      <td>3,383.50</td>\n",
       "      <td>3,320.00</td>\n",
       "      <td>3,335.00</td>\n",
       "      <td>-56.70</td>\n",
       "      <td>-1.67</td>\n",
       "      <td>3.42</td>\n",
       "      <td>114.59</td>\n",
       "      <td>4,361.40</td>\n",
       "      <td>3,041.00</td>\n",
       "      <td>9.30</td>\n",
       "      <td>-12.05</td>\n",
       "    </tr>\n",
       "    <tr>\n",
       "      <th>4</th>\n",
       "      <td>BAJAJFINSV</td>\n",
       "      <td>17,200.00</td>\n",
       "      <td>17,237.20</td>\n",
       "      <td>16,610.00</td>\n",
       "      <td>16,684.00</td>\n",
       "      <td>-684.85</td>\n",
       "      <td>-3.94</td>\n",
       "      <td>3.42</td>\n",
       "      <td>576.79</td>\n",
       "      <td>19,325.00</td>\n",
       "      <td>8,273.70</td>\n",
       "      <td>91.38</td>\n",
       "      <td>-9.10</td>\n",
       "    </tr>\n",
       "  </tbody>\n",
       "</table>\n",
       "</div>"
      ],
      "text/plain": [
       "       Symbol       Open       High        Low        LTP    Chng  % Chng  \\\n",
       "0  ADANIPORTS        750        766     713.25        715  -47.45   -6.22   \n",
       "1  ASIANPAINT   3,101.00   3,167.35   3,091.00   3,138.00   -6.25   -0.20   \n",
       "2    AXISBANK        669      674.9     660.45        661  -18.90   -2.78   \n",
       "3  BAJAJ-AUTO   3,370.00   3,383.50   3,320.00   3,335.00  -56.70   -1.67   \n",
       "4  BAJAJFINSV  17,200.00  17,237.20  16,610.00  16,684.00 -684.85   -3.94   \n",
       "\n",
       "   Volume (lacs) Turnover (crs.)      52w H     52w L  365 d % chng  \\\n",
       "0          72.20          532.63        901     384.4         79.22   \n",
       "1          10.29          322.53   3,505.00  2,117.15         45.66   \n",
       "2         102.53             684      866.9     568.4         10.19   \n",
       "3           3.42          114.59   4,361.40  3,041.00          9.30   \n",
       "4           3.42          576.79  19,325.00  8,273.70         91.38   \n",
       "\n",
       "   30 d % chng  \n",
       "0        -4.65  \n",
       "1         5.66  \n",
       "2       -21.49  \n",
       "3       -12.05  \n",
       "4        -9.10  "
      ]
     },
     "execution_count": 2,
     "metadata": {},
     "output_type": "execute_result"
    }
   ],
   "source": [
    "data = pd.read_csv('National_Stock_Exchange_of_India_Ltd.csv')\n",
    "data.head()"
   ]
  },
  {
   "cell_type": "code",
   "execution_count": 3,
   "id": "0a5e23bd",
   "metadata": {},
   "outputs": [
    {
     "data": {
      "text/plain": [
       "(50, 13)"
      ]
     },
     "execution_count": 3,
     "metadata": {},
     "output_type": "execute_result"
    }
   ],
   "source": [
    "data.shape"
   ]
  },
  {
   "cell_type": "markdown",
   "id": "a2c60a2b",
   "metadata": {},
   "source": [
    "# Columns Informations\n",
    "\n",
    "symobol = stocks names of nifty 50\n",
    "Open=Open price for current day\n",
    "High=Price made high for current day\n",
    "Low=Price made low for current day\n",
    "Chng=Change in rupees\n",
    "% Chng=Percentage of change from previous day close\n",
    "Volume (lacs)=Traded volume\n",
    "Turnover (crs.)=Turnover\n",
    "52w H=Stock 52 week high price\n",
    "52w L=Stock 52 week high price\n",
    "365 d % chng=Stock price percentage change from one year\n",
    "30 d % chng=Stock price percentage change from last 30days"
   ]
  },
  {
   "cell_type": "code",
   "execution_count": 4,
   "id": "36bf6227",
   "metadata": {},
   "outputs": [
    {
     "name": "stdout",
     "output_type": "stream",
     "text": [
      "<class 'pandas.core.frame.DataFrame'>\n",
      "RangeIndex: 50 entries, 0 to 49\n",
      "Data columns (total 13 columns):\n",
      " #   Column           Non-Null Count  Dtype  \n",
      "---  ------           --------------  -----  \n",
      " 0   Symbol           50 non-null     object \n",
      " 1   Open             50 non-null     object \n",
      " 2   High             50 non-null     object \n",
      " 3   Low              50 non-null     object \n",
      " 4   LTP              50 non-null     object \n",
      " 5   Chng             50 non-null     float64\n",
      " 6   % Chng           50 non-null     float64\n",
      " 7   Volume (lacs)    50 non-null     float64\n",
      " 8   Turnover (crs.)  50 non-null     object \n",
      " 9   52w H            50 non-null     object \n",
      " 10  52w L            50 non-null     object \n",
      " 11  365 d % chng     50 non-null     float64\n",
      " 12  30 d % chng      50 non-null     float64\n",
      "dtypes: float64(5), object(8)\n",
      "memory usage: 5.2+ KB\n"
     ]
    }
   ],
   "source": [
    "data.info()"
   ]
  },
  {
   "cell_type": "code",
   "execution_count": 6,
   "id": "cdcb5b9a",
   "metadata": {},
   "outputs": [],
   "source": [
    "#Changing the columns type to float\n",
    "col = data.columns\n",
    "for i in col:\n",
    "    if i!='Symbol':\n",
    "        if data[i].dtype =='object':\n",
    "            data[i] = data[i].str.replace(',','').astype('float32')"
   ]
  },
  {
   "cell_type": "code",
   "execution_count": 7,
   "id": "7d177f6a",
   "metadata": {},
   "outputs": [
    {
     "name": "stdout",
     "output_type": "stream",
     "text": [
      "<class 'pandas.core.frame.DataFrame'>\n",
      "RangeIndex: 50 entries, 0 to 49\n",
      "Data columns (total 13 columns):\n",
      " #   Column           Non-Null Count  Dtype  \n",
      "---  ------           --------------  -----  \n",
      " 0   Symbol           50 non-null     object \n",
      " 1   Open             50 non-null     float32\n",
      " 2   High             50 non-null     float32\n",
      " 3   Low              50 non-null     float32\n",
      " 4   LTP              50 non-null     float32\n",
      " 5   Chng             50 non-null     float64\n",
      " 6   % Chng           50 non-null     float64\n",
      " 7   Volume (lacs)    50 non-null     float64\n",
      " 8   Turnover (crs.)  50 non-null     float32\n",
      " 9   52w H            50 non-null     float32\n",
      " 10  52w L            50 non-null     float32\n",
      " 11  365 d % chng     50 non-null     float64\n",
      " 12  30 d % chng      50 non-null     float64\n",
      "dtypes: float32(7), float64(5), object(1)\n",
      "memory usage: 3.8+ KB\n"
     ]
    }
   ],
   "source": [
    "data.info()"
   ]
  },
  {
   "cell_type": "code",
   "execution_count": 8,
   "id": "c2c8f48d",
   "metadata": {},
   "outputs": [
    {
     "data": {
      "text/plain": [
       "Symbol             0\n",
       "Open               0\n",
       "High               0\n",
       "Low                0\n",
       "LTP                0\n",
       "Chng               0\n",
       "% Chng             0\n",
       "Volume (lacs)      0\n",
       "Turnover (crs.)    0\n",
       "52w H              0\n",
       "52w L              0\n",
       "365 d % chng       0\n",
       "30 d % chng        0\n",
       "dtype: int64"
      ]
     },
     "execution_count": 8,
     "metadata": {},
     "output_type": "execute_result"
    }
   ],
   "source": [
    "data.isnull().sum()"
   ]
  },
  {
   "cell_type": "markdown",
   "id": "0535e858",
   "metadata": {},
   "source": [
    "# Top 10 gainers from last one year"
   ]
  },
  {
   "cell_type": "code",
   "execution_count": 9,
   "id": "a5e139f3",
   "metadata": {},
   "outputs": [
    {
     "data": {
      "text/html": [
       "<div>\n",
       "<style scoped>\n",
       "    .dataframe tbody tr th:only-of-type {\n",
       "        vertical-align: middle;\n",
       "    }\n",
       "\n",
       "    .dataframe tbody tr th {\n",
       "        vertical-align: top;\n",
       "    }\n",
       "\n",
       "    .dataframe thead th {\n",
       "        text-align: right;\n",
       "    }\n",
       "</style>\n",
       "<table border=\"1\" class=\"dataframe\">\n",
       "  <thead>\n",
       "    <tr style=\"text-align: right;\">\n",
       "      <th></th>\n",
       "      <th>Symbol</th>\n",
       "      <th>365 d % chng</th>\n",
       "    </tr>\n",
       "  </thead>\n",
       "  <tbody>\n",
       "    <tr>\n",
       "      <th>42</th>\n",
       "      <td>TATAMOTORS</td>\n",
       "      <td>167.95</td>\n",
       "    </tr>\n",
       "    <tr>\n",
       "      <th>43</th>\n",
       "      <td>TATASTEEL</td>\n",
       "      <td>105.13</td>\n",
       "    </tr>\n",
       "    <tr>\n",
       "      <th>14</th>\n",
       "      <td>GRASIM</td>\n",
       "      <td>99.95</td>\n",
       "    </tr>\n",
       "    <tr>\n",
       "      <th>38</th>\n",
       "      <td>SBIN</td>\n",
       "      <td>93.42</td>\n",
       "    </tr>\n",
       "    <tr>\n",
       "      <th>4</th>\n",
       "      <td>BAJAJFINSV</td>\n",
       "      <td>91.38</td>\n",
       "    </tr>\n",
       "    <tr>\n",
       "      <th>20</th>\n",
       "      <td>HINDALCO</td>\n",
       "      <td>86.93</td>\n",
       "    </tr>\n",
       "    <tr>\n",
       "      <th>27</th>\n",
       "      <td>JSWSTEEL</td>\n",
       "      <td>86.25</td>\n",
       "    </tr>\n",
       "    <tr>\n",
       "      <th>34</th>\n",
       "      <td>ONGC</td>\n",
       "      <td>82.86</td>\n",
       "    </tr>\n",
       "    <tr>\n",
       "      <th>0</th>\n",
       "      <td>ADANIPORTS</td>\n",
       "      <td>79.22</td>\n",
       "    </tr>\n",
       "    <tr>\n",
       "      <th>49</th>\n",
       "      <td>WIPRO</td>\n",
       "      <td>77.51</td>\n",
       "    </tr>\n",
       "  </tbody>\n",
       "</table>\n",
       "</div>"
      ],
      "text/plain": [
       "        Symbol  365 d % chng\n",
       "42  TATAMOTORS        167.95\n",
       "43   TATASTEEL        105.13\n",
       "14      GRASIM         99.95\n",
       "38        SBIN         93.42\n",
       "4   BAJAJFINSV         91.38\n",
       "20    HINDALCO         86.93\n",
       "27    JSWSTEEL         86.25\n",
       "34        ONGC         82.86\n",
       "0   ADANIPORTS         79.22\n",
       "49       WIPRO         77.51"
      ]
     },
     "execution_count": 9,
     "metadata": {},
     "output_type": "execute_result"
    }
   ],
   "source": [
    "new = data.sort_values('365 d % chng',ascending=False).head(10)\n",
    "new_final = new[['Symbol','365 d % chng']]\n",
    "new_final"
   ]
  },
  {
   "cell_type": "code",
   "execution_count": 12,
   "id": "48e9aaa5",
   "metadata": {},
   "outputs": [
    {
     "data": {
      "image/png": "[encoded data removed]",
      "text/plain": [
       "<Figure size 1080x576 with 1 Axes>"
      ]
     },
     "metadata": {
      "needs_background": "light"
     },
     "output_type": "display_data"
    }
   ],
   "source": [
    "plt.figure(figsize=(15,8))\n",
    "sns.barplot(x='Symbol',y='365 d % chng',data=new_final)\n",
    "plt.title(\"Top 10 ganier companies form last year\")\n",
    "plt.xticks(rotation=45)\n",
    "plt.show()"
   ]
  },
  {
   "cell_type": "raw",
   "id": "e7deb921",
   "metadata": {},
   "source": [
    "# TATAMOTORS is the top gainer from last year with 167.95%"
   ]
  },
  {
   "cell_type": "markdown",
   "id": "76c8d86a",
   "metadata": {},
   "source": [
    "# Top losers from last one year"
   ]
  },
  {
   "cell_type": "code",
   "execution_count": 13,
   "id": "97349d08",
   "metadata": {},
   "outputs": [
    {
     "data": {
      "text/html": [
       "<div>\n",
       "<style scoped>\n",
       "    .dataframe tbody tr th:only-of-type {\n",
       "        vertical-align: middle;\n",
       "    }\n",
       "\n",
       "    .dataframe tbody tr th {\n",
       "        vertical-align: top;\n",
       "    }\n",
       "\n",
       "    .dataframe thead th {\n",
       "        text-align: right;\n",
       "    }\n",
       "</style>\n",
       "<table border=\"1\" class=\"dataframe\">\n",
       "  <thead>\n",
       "    <tr style=\"text-align: right;\">\n",
       "      <th></th>\n",
       "      <th>Symbol</th>\n",
       "      <th>365 d % chng</th>\n",
       "    </tr>\n",
       "  </thead>\n",
       "  <tbody>\n",
       "    <tr>\n",
       "      <th>19</th>\n",
       "      <td>HEROMOTOCO</td>\n",
       "      <td>-16.02</td>\n",
       "    </tr>\n",
       "    <tr>\n",
       "      <th>13</th>\n",
       "      <td>EICHERMOT</td>\n",
       "      <td>-5.95</td>\n",
       "    </tr>\n",
       "    <tr>\n",
       "      <th>7</th>\n",
       "      <td>BPCL</td>\n",
       "      <td>-1.22</td>\n",
       "    </tr>\n",
       "    <tr>\n",
       "      <th>12</th>\n",
       "      <td>DRREDDY</td>\n",
       "      <td>-1.17</td>\n",
       "    </tr>\n",
       "    <tr>\n",
       "      <th>8</th>\n",
       "      <td>BRITANNIA</td>\n",
       "      <td>0.30</td>\n",
       "    </tr>\n",
       "    <tr>\n",
       "      <th>18</th>\n",
       "      <td>HDFCLIFE</td>\n",
       "      <td>0.70</td>\n",
       "    </tr>\n",
       "    <tr>\n",
       "      <th>31</th>\n",
       "      <td>MARUTI</td>\n",
       "      <td>1.34</td>\n",
       "    </tr>\n",
       "    <tr>\n",
       "      <th>35</th>\n",
       "      <td>POWERGRID</td>\n",
       "      <td>3.69</td>\n",
       "    </tr>\n",
       "    <tr>\n",
       "      <th>28</th>\n",
       "      <td>KOTAKBANK</td>\n",
       "      <td>5.24</td>\n",
       "    </tr>\n",
       "    <tr>\n",
       "      <th>23</th>\n",
       "      <td>INDUSINDBK</td>\n",
       "      <td>5.25</td>\n",
       "    </tr>\n",
       "  </tbody>\n",
       "</table>\n",
       "</div>"
      ],
      "text/plain": [
       "        Symbol  365 d % chng\n",
       "19  HEROMOTOCO        -16.02\n",
       "13   EICHERMOT         -5.95\n",
       "7         BPCL         -1.22\n",
       "12     DRREDDY         -1.17\n",
       "8    BRITANNIA          0.30\n",
       "18    HDFCLIFE          0.70\n",
       "31      MARUTI          1.34\n",
       "35   POWERGRID          3.69\n",
       "28   KOTAKBANK          5.24\n",
       "23  INDUSINDBK          5.25"
      ]
     },
     "execution_count": 13,
     "metadata": {},
     "output_type": "execute_result"
    }
   ],
   "source": [
    "new = data.sort_values('365 d % chng',ascending=True).head(10)\n",
    "new_loosers = new[['Symbol','365 d % chng']]\n",
    "new_loosers"
   ]
  },
  {
   "cell_type": "code",
   "execution_count": 14,
   "id": "87f32a5c",
   "metadata": {},
   "outputs": [
    {
     "data": {
      "image/png": "[encoded data removed]",
      "text/plain": [
       "<Figure size 1080x576 with 1 Axes>"
      ]
     },
     "metadata": {
      "needs_background": "light"
     },
     "output_type": "display_data"
    }
   ],
   "source": [
    "plt.figure(figsize=(15,8))\n",
    "sns.barplot(x='Symbol',y='365 d % chng',data=new_loosers)\n",
    "plt.title(\"Top 10 looser companies form last year\")\n",
    "plt.xticks(rotation=45)\n",
    "plt.show()"
   ]
  },
  {
   "cell_type": "raw",
   "id": "8c88f84f",
   "metadata": {},
   "source": [
    "# HEROMOTOCOP is the top loser with -16%"
   ]
  },
  {
   "cell_type": "markdown",
   "id": "df8d79c0",
   "metadata": {},
   "source": [
    "# Top 5 gainers in a month"
   ]
  },
  {
   "cell_type": "code",
   "execution_count": 15,
   "id": "7c07d897",
   "metadata": {},
   "outputs": [
    {
     "data": {
      "text/html": [
       "<div>\n",
       "<style scoped>\n",
       "    .dataframe tbody tr th:only-of-type {\n",
       "        vertical-align: middle;\n",
       "    }\n",
       "\n",
       "    .dataframe tbody tr th {\n",
       "        vertical-align: top;\n",
       "    }\n",
       "\n",
       "    .dataframe thead th {\n",
       "        text-align: right;\n",
       "    }\n",
       "</style>\n",
       "<table border=\"1\" class=\"dataframe\">\n",
       "  <thead>\n",
       "    <tr style=\"text-align: right;\">\n",
       "      <th></th>\n",
       "      <th>Symbol</th>\n",
       "      <th>30 d % chng</th>\n",
       "    </tr>\n",
       "  </thead>\n",
       "  <tbody>\n",
       "    <tr>\n",
       "      <th>9</th>\n",
       "      <td>CIPLA</td>\n",
       "      <td>6.34</td>\n",
       "    </tr>\n",
       "    <tr>\n",
       "      <th>6</th>\n",
       "      <td>BHARTIARTL</td>\n",
       "      <td>5.70</td>\n",
       "    </tr>\n",
       "    <tr>\n",
       "      <th>1</th>\n",
       "      <td>ASIANPAINT</td>\n",
       "      <td>5.66</td>\n",
       "    </tr>\n",
       "    <tr>\n",
       "      <th>12</th>\n",
       "      <td>DRREDDY</td>\n",
       "      <td>1.80</td>\n",
       "    </tr>\n",
       "    <tr>\n",
       "      <th>32</th>\n",
       "      <td>NESTLEIND</td>\n",
       "      <td>0.17</td>\n",
       "    </tr>\n",
       "  </tbody>\n",
       "</table>\n",
       "</div>"
      ],
      "text/plain": [
       "        Symbol  30 d % chng\n",
       "9        CIPLA         6.34\n",
       "6   BHARTIARTL         5.70\n",
       "1   ASIANPAINT         5.66\n",
       "12     DRREDDY         1.80\n",
       "32   NESTLEIND         0.17"
      ]
     },
     "execution_count": 15,
     "metadata": {},
     "output_type": "execute_result"
    }
   ],
   "source": [
    "t5=data[data['30 d % chng']>0].head(5)\n",
    "t_5=t5.sort_values('30 d % chng',ascending=False)\n",
    "t_5[['Symbol','30 d % chng']].head(5)"
   ]
  },
  {
   "cell_type": "code",
   "execution_count": 16,
   "id": "0575a505",
   "metadata": {},
   "outputs": [
    {
     "data": {
      "image/png": "[encoded data removed]",
      "text/plain": [
       "<Figure size 1080x576 with 1 Axes>"
      ]
     },
     "metadata": {
      "needs_background": "light"
     },
     "output_type": "display_data"
    }
   ],
   "source": [
    "plt.figure(figsize=(15,8))\n",
    "sns.barplot(x='Symbol',y='30 d % chng',data=t_5)\n",
    "plt.title(\"Top 5 ganier companies at month\")\n",
    "plt.xticks(rotation=45)\n",
    "plt.show()"
   ]
  },
  {
   "cell_type": "raw",
   "id": "14a9ddc4",
   "metadata": {},
   "source": [
    "# POWERGRID AND CIPLA are top gainers in a month with almost 6.36 peracentage"
   ]
  },
  {
   "cell_type": "code",
   "execution_count": 17,
   "id": "3876d09a",
   "metadata": {},
   "outputs": [
    {
     "data": {
      "text/html": [
       "<div>\n",
       "<style scoped>\n",
       "    .dataframe tbody tr th:only-of-type {\n",
       "        vertical-align: middle;\n",
       "    }\n",
       "\n",
       "    .dataframe tbody tr th {\n",
       "        vertical-align: top;\n",
       "    }\n",
       "\n",
       "    .dataframe thead th {\n",
       "        text-align: right;\n",
       "    }\n",
       "</style>\n",
       "<table border=\"1\" class=\"dataframe\">\n",
       "  <thead>\n",
       "    <tr style=\"text-align: right;\">\n",
       "      <th></th>\n",
       "      <th>Symbol</th>\n",
       "      <th>30 d % chng</th>\n",
       "    </tr>\n",
       "  </thead>\n",
       "  <tbody>\n",
       "    <tr>\n",
       "      <th>0</th>\n",
       "      <td>ADANIPORTS</td>\n",
       "      <td>-4.65</td>\n",
       "    </tr>\n",
       "    <tr>\n",
       "      <th>4</th>\n",
       "      <td>BAJAJFINSV</td>\n",
       "      <td>-9.10</td>\n",
       "    </tr>\n",
       "    <tr>\n",
       "      <th>3</th>\n",
       "      <td>BAJAJ-AUTO</td>\n",
       "      <td>-12.05</td>\n",
       "    </tr>\n",
       "    <tr>\n",
       "      <th>5</th>\n",
       "      <td>BAJFINANCE</td>\n",
       "      <td>-13.69</td>\n",
       "    </tr>\n",
       "    <tr>\n",
       "      <th>2</th>\n",
       "      <td>AXISBANK</td>\n",
       "      <td>-21.49</td>\n",
       "    </tr>\n",
       "  </tbody>\n",
       "</table>\n",
       "</div>"
      ],
      "text/plain": [
       "       Symbol  30 d % chng\n",
       "0  ADANIPORTS        -4.65\n",
       "4  BAJAJFINSV        -9.10\n",
       "3  BAJAJ-AUTO       -12.05\n",
       "5  BAJFINANCE       -13.69\n",
       "2    AXISBANK       -21.49"
      ]
     },
     "execution_count": 17,
     "metadata": {},
     "output_type": "execute_result"
    }
   ],
   "source": [
    "l5=data[data['30 d % chng']<0].head(5)\n",
    "l_5=l5.sort_values('30 d % chng',ascending=False)\n",
    "l_5[['Symbol','30 d % chng']].head(5)"
   ]
  },
  {
   "cell_type": "code",
   "execution_count": 18,
   "id": "5f3e1086",
   "metadata": {},
   "outputs": [
    {
     "data": {
      "image/png": "[encoded data removed]",
      "text/plain": [
       "<Figure size 1080x576 with 1 Axes>"
      ]
     },
     "metadata": {
      "needs_background": "light"
     },
     "output_type": "display_data"
    }
   ],
   "source": [
    "plt.figure(figsize=(15,8))\n",
    "sns.barplot(x='Symbol',y='30 d % chng',data=l_5)\n",
    "plt.title(\"Top 5 looser companies at month\")\n",
    "plt.xticks(rotation=45)\n",
    "plt.show()"
   ]
  },
  {
   "cell_type": "code",
   "execution_count": null,
   "id": "27d23a12",
   "metadata": {},
   "outputs": [],
   "source": [
    "# Axis Bank is top looser in a month with almost -20 peracentage"
   ]
  },
  {
   "cell_type": "code",
   "execution_count": 19,
   "id": "68a5ea97",
   "metadata": {},
   "outputs": [
    {
     "data": {
      "text/html": [
       "<div>\n",
       "<style scoped>\n",
       "    .dataframe tbody tr th:only-of-type {\n",
       "        vertical-align: middle;\n",
       "    }\n",
       "\n",
       "    .dataframe tbody tr th {\n",
       "        vertical-align: top;\n",
       "    }\n",
       "\n",
       "    .dataframe thead th {\n",
       "        text-align: right;\n",
       "    }\n",
       "</style>\n",
       "<table border=\"1\" class=\"dataframe\">\n",
       "  <thead>\n",
       "    <tr style=\"text-align: right;\">\n",
       "      <th></th>\n",
       "      <th>Symbol</th>\n",
       "      <th>Open</th>\n",
       "      <th>High</th>\n",
       "      <th>Low</th>\n",
       "      <th>LTP</th>\n",
       "      <th>Chng</th>\n",
       "      <th>% Chng</th>\n",
       "      <th>Volume (lacs)</th>\n",
       "      <th>Turnover (crs.)</th>\n",
       "      <th>52w H</th>\n",
       "      <th>52w L</th>\n",
       "      <th>365 d % chng</th>\n",
       "      <th>30 d % chng</th>\n",
       "    </tr>\n",
       "  </thead>\n",
       "  <tbody>\n",
       "    <tr>\n",
       "      <th>42</th>\n",
       "      <td>TATAMOTORS</td>\n",
       "      <td>486.000000</td>\n",
       "      <td>486.750000</td>\n",
       "      <td>458.000000</td>\n",
       "      <td>459.399994</td>\n",
       "      <td>-33.35</td>\n",
       "      <td>-6.77</td>\n",
       "      <td>517.88</td>\n",
       "      <td>2430.360107</td>\n",
       "      <td>536.700012</td>\n",
       "      <td>156.699997</td>\n",
       "      <td>167.95</td>\n",
       "      <td>-9.68</td>\n",
       "    </tr>\n",
       "    <tr>\n",
       "      <th>36</th>\n",
       "      <td>RELIANCE</td>\n",
       "      <td>2467.800049</td>\n",
       "      <td>2477.600098</td>\n",
       "      <td>2401.500000</td>\n",
       "      <td>2405.100098</td>\n",
       "      <td>-87.85</td>\n",
       "      <td>-3.52</td>\n",
       "      <td>72.75</td>\n",
       "      <td>1770.189941</td>\n",
       "      <td>2751.350098</td>\n",
       "      <td>1830.000000</td>\n",
       "      <td>23.48</td>\n",
       "      <td>-9.62</td>\n",
       "    </tr>\n",
       "    <tr>\n",
       "      <th>17</th>\n",
       "      <td>HDFCBANK</td>\n",
       "      <td>1500.000000</td>\n",
       "      <td>1506.699951</td>\n",
       "      <td>1485.000000</td>\n",
       "      <td>1489.500000</td>\n",
       "      <td>-36.45</td>\n",
       "      <td>-2.39</td>\n",
       "      <td>93.12</td>\n",
       "      <td>1394.099976</td>\n",
       "      <td>1725.000000</td>\n",
       "      <td>1342.000000</td>\n",
       "      <td>6.18</td>\n",
       "      <td>-9.88</td>\n",
       "    </tr>\n",
       "    <tr>\n",
       "      <th>22</th>\n",
       "      <td>ICICIBANK</td>\n",
       "      <td>739.000000</td>\n",
       "      <td>742.049988</td>\n",
       "      <td>718.599976</td>\n",
       "      <td>720.450012</td>\n",
       "      <td>-30.60</td>\n",
       "      <td>-4.07</td>\n",
       "      <td>189.88</td>\n",
       "      <td>1385.859985</td>\n",
       "      <td>867.000000</td>\n",
       "      <td>465.799988</td>\n",
       "      <td>52.41</td>\n",
       "      <td>-13.14</td>\n",
       "    </tr>\n",
       "    <tr>\n",
       "      <th>9</th>\n",
       "      <td>CIPLA</td>\n",
       "      <td>892.000000</td>\n",
       "      <td>976.049988</td>\n",
       "      <td>890.650024</td>\n",
       "      <td>965.000000</td>\n",
       "      <td>65.05</td>\n",
       "      <td>7.23</td>\n",
       "      <td>144.59</td>\n",
       "      <td>1380.900024</td>\n",
       "      <td>1005.000000</td>\n",
       "      <td>726.500000</td>\n",
       "      <td>31.89</td>\n",
       "      <td>6.34</td>\n",
       "    </tr>\n",
       "  </tbody>\n",
       "</table>\n",
       "</div>"
      ],
      "text/plain": [
       "        Symbol         Open         High          Low          LTP   Chng  \\\n",
       "42  TATAMOTORS   486.000000   486.750000   458.000000   459.399994 -33.35   \n",
       "36    RELIANCE  2467.800049  2477.600098  2401.500000  2405.100098 -87.85   \n",
       "17    HDFCBANK  1500.000000  1506.699951  1485.000000  1489.500000 -36.45   \n",
       "22   ICICIBANK   739.000000   742.049988   718.599976   720.450012 -30.60   \n",
       "9        CIPLA   892.000000   976.049988   890.650024   965.000000  65.05   \n",
       "\n",
       "    % Chng  Volume (lacs)  Turnover (crs.)        52w H        52w L  \\\n",
       "42   -6.77         517.88      2430.360107   536.700012   156.699997   \n",
       "36   -3.52          72.75      1770.189941  2751.350098  1830.000000   \n",
       "17   -2.39          93.12      1394.099976  1725.000000  1342.000000   \n",
       "22   -4.07         189.88      1385.859985   867.000000   465.799988   \n",
       "9     7.23         144.59      1380.900024  1005.000000   726.500000   \n",
       "\n",
       "    365 d % chng  30 d % chng  \n",
       "42        167.95        -9.68  \n",
       "36         23.48        -9.62  \n",
       "17          6.18        -9.88  \n",
       "22         52.41       -13.14  \n",
       "9          31.89         6.34  "
      ]
     },
     "execution_count": 19,
     "metadata": {},
     "output_type": "execute_result"
    }
   ],
   "source": [
    "data.sort_values('Turnover (crs.)',ascending = False).head()"
   ]
  },
  {
   "cell_type": "code",
   "execution_count": 23,
   "id": "d5302e71",
   "metadata": {},
   "outputs": [
    {
     "data": {
      "image/png": "[encoded data removed]",
      "text/plain": [
       "<Figure size 1440x1080 with 1 Axes>"
      ]
     },
     "metadata": {
      "needs_background": "light"
     },
     "output_type": "display_data"
    }
   ],
   "source": [
    "plt.figure(figsize=(20,15))\n",
    "sns.barplot(x=data['Symbol'], y=data['Turnover (crs.)'])\n",
    "plt.title(\"Turnover in crs of stocks\")\n",
    "plt.xticks(rotation=90)\n",
    "plt.show()"
   ]
  },
  {
   "cell_type": "raw",
   "id": "5d3a1cd7",
   "metadata": {},
   "source": [
    "#Higesht Turnover made last year stock is \"TATAMOTORS' with 2430.36 cr"
   ]
  },
  {
   "cell_type": "markdown",
   "id": "e62a981f",
   "metadata": {},
   "source": [
    "# Top 10 stocks in which highest volume traded"
   ]
  },
  {
   "cell_type": "code",
   "execution_count": 24,
   "id": "42eafb29",
   "metadata": {},
   "outputs": [
    {
     "data": {
      "text/html": [
       "<div>\n",
       "<style scoped>\n",
       "    .dataframe tbody tr th:only-of-type {\n",
       "        vertical-align: middle;\n",
       "    }\n",
       "\n",
       "    .dataframe tbody tr th {\n",
       "        vertical-align: top;\n",
       "    }\n",
       "\n",
       "    .dataframe thead th {\n",
       "        text-align: right;\n",
       "    }\n",
       "</style>\n",
       "<table border=\"1\" class=\"dataframe\">\n",
       "  <thead>\n",
       "    <tr style=\"text-align: right;\">\n",
       "      <th></th>\n",
       "      <th>Symbol</th>\n",
       "      <th>Open</th>\n",
       "      <th>High</th>\n",
       "      <th>Low</th>\n",
       "      <th>LTP</th>\n",
       "      <th>Chng</th>\n",
       "      <th>% Chng</th>\n",
       "      <th>Volume (lacs)</th>\n",
       "      <th>Turnover (crs.)</th>\n",
       "      <th>52w H</th>\n",
       "      <th>52w L</th>\n",
       "      <th>365 d % chng</th>\n",
       "      <th>30 d % chng</th>\n",
       "    </tr>\n",
       "  </thead>\n",
       "  <tbody>\n",
       "    <tr>\n",
       "      <th>42</th>\n",
       "      <td>TATAMOTORS</td>\n",
       "      <td>486.000000</td>\n",
       "      <td>486.750000</td>\n",
       "      <td>458.000000</td>\n",
       "      <td>459.399994</td>\n",
       "      <td>-33.35</td>\n",
       "      <td>-6.77</td>\n",
       "      <td>517.88</td>\n",
       "      <td>2430.360107</td>\n",
       "      <td>536.700012</td>\n",
       "      <td>156.699997</td>\n",
       "      <td>167.95</td>\n",
       "      <td>-9.68</td>\n",
       "    </tr>\n",
       "    <tr>\n",
       "      <th>26</th>\n",
       "      <td>ITC</td>\n",
       "      <td>228.899994</td>\n",
       "      <td>230.050003</td>\n",
       "      <td>223.100006</td>\n",
       "      <td>223.600006</td>\n",
       "      <td>-7.70</td>\n",
       "      <td>-3.33</td>\n",
       "      <td>270.27</td>\n",
       "      <td>610.539978</td>\n",
       "      <td>265.299988</td>\n",
       "      <td>192.399994</td>\n",
       "      <td>15.35</td>\n",
       "      <td>-5.53</td>\n",
       "    </tr>\n",
       "    <tr>\n",
       "      <th>38</th>\n",
       "      <td>SBIN</td>\n",
       "      <td>486.250000</td>\n",
       "      <td>487.899994</td>\n",
       "      <td>467.100006</td>\n",
       "      <td>470.000000</td>\n",
       "      <td>-20.55</td>\n",
       "      <td>-4.19</td>\n",
       "      <td>263.06</td>\n",
       "      <td>1249.550049</td>\n",
       "      <td>542.299988</td>\n",
       "      <td>240.149994</td>\n",
       "      <td>93.42</td>\n",
       "      <td>-8.30</td>\n",
       "    </tr>\n",
       "    <tr>\n",
       "      <th>34</th>\n",
       "      <td>ONGC</td>\n",
       "      <td>152.250000</td>\n",
       "      <td>152.250000</td>\n",
       "      <td>146.250000</td>\n",
       "      <td>147.750000</td>\n",
       "      <td>-7.35</td>\n",
       "      <td>-4.74</td>\n",
       "      <td>231.36</td>\n",
       "      <td>344.329987</td>\n",
       "      <td>172.750000</td>\n",
       "      <td>77.050003</td>\n",
       "      <td>82.86</td>\n",
       "      <td>-9.41</td>\n",
       "    </tr>\n",
       "    <tr>\n",
       "      <th>22</th>\n",
       "      <td>ICICIBANK</td>\n",
       "      <td>739.000000</td>\n",
       "      <td>742.049988</td>\n",
       "      <td>718.599976</td>\n",
       "      <td>720.450012</td>\n",
       "      <td>-30.60</td>\n",
       "      <td>-4.07</td>\n",
       "      <td>189.88</td>\n",
       "      <td>1385.859985</td>\n",
       "      <td>867.000000</td>\n",
       "      <td>465.799988</td>\n",
       "      <td>52.41</td>\n",
       "      <td>-13.14</td>\n",
       "    </tr>\n",
       "    <tr>\n",
       "      <th>20</th>\n",
       "      <td>HINDALCO</td>\n",
       "      <td>441.799988</td>\n",
       "      <td>442.700012</td>\n",
       "      <td>414.700012</td>\n",
       "      <td>417.700012</td>\n",
       "      <td>-29.35</td>\n",
       "      <td>-6.57</td>\n",
       "      <td>148.26</td>\n",
       "      <td>631.929993</td>\n",
       "      <td>551.849976</td>\n",
       "      <td>220.350006</td>\n",
       "      <td>86.93</td>\n",
       "      <td>-14.06</td>\n",
       "    </tr>\n",
       "    <tr>\n",
       "      <th>9</th>\n",
       "      <td>CIPLA</td>\n",
       "      <td>892.000000</td>\n",
       "      <td>976.049988</td>\n",
       "      <td>890.650024</td>\n",
       "      <td>965.000000</td>\n",
       "      <td>65.05</td>\n",
       "      <td>7.23</td>\n",
       "      <td>144.59</td>\n",
       "      <td>1380.900024</td>\n",
       "      <td>1005.000000</td>\n",
       "      <td>726.500000</td>\n",
       "      <td>31.89</td>\n",
       "      <td>6.34</td>\n",
       "    </tr>\n",
       "    <tr>\n",
       "      <th>33</th>\n",
       "      <td>NTPC</td>\n",
       "      <td>133.199997</td>\n",
       "      <td>134.050003</td>\n",
       "      <td>128.000000</td>\n",
       "      <td>128.649994</td>\n",
       "      <td>-6.55</td>\n",
       "      <td>-4.84</td>\n",
       "      <td>133.24</td>\n",
       "      <td>173.940002</td>\n",
       "      <td>152.100006</td>\n",
       "      <td>88.150002</td>\n",
       "      <td>36.93</td>\n",
       "      <td>-10.16</td>\n",
       "    </tr>\n",
       "    <tr>\n",
       "      <th>10</th>\n",
       "      <td>COALINDIA</td>\n",
       "      <td>157.750000</td>\n",
       "      <td>159.399994</td>\n",
       "      <td>155.350006</td>\n",
       "      <td>155.899994</td>\n",
       "      <td>-2.65</td>\n",
       "      <td>-1.67</td>\n",
       "      <td>118.30</td>\n",
       "      <td>185.500000</td>\n",
       "      <td>203.800003</td>\n",
       "      <td>123.250000</td>\n",
       "      <td>25.78</td>\n",
       "      <td>-10.94</td>\n",
       "    </tr>\n",
       "    <tr>\n",
       "      <th>6</th>\n",
       "      <td>BHARTIARTL</td>\n",
       "      <td>763.000000</td>\n",
       "      <td>763.000000</td>\n",
       "      <td>733.099976</td>\n",
       "      <td>735.849976</td>\n",
       "      <td>-29.30</td>\n",
       "      <td>-3.83</td>\n",
       "      <td>111.43</td>\n",
       "      <td>830.059998</td>\n",
       "      <td>781.799988</td>\n",
       "      <td>454.109985</td>\n",
       "      <td>58.55</td>\n",
       "      <td>5.70</td>\n",
       "    </tr>\n",
       "  </tbody>\n",
       "</table>\n",
       "</div>"
      ],
      "text/plain": [
       "        Symbol        Open        High         Low         LTP   Chng  % Chng  \\\n",
       "42  TATAMOTORS  486.000000  486.750000  458.000000  459.399994 -33.35   -6.77   \n",
       "26         ITC  228.899994  230.050003  223.100006  223.600006  -7.70   -3.33   \n",
       "38        SBIN  486.250000  487.899994  467.100006  470.000000 -20.55   -4.19   \n",
       "34        ONGC  152.250000  152.250000  146.250000  147.750000  -7.35   -4.74   \n",
       "22   ICICIBANK  739.000000  742.049988  718.599976  720.450012 -30.60   -4.07   \n",
       "20    HINDALCO  441.799988  442.700012  414.700012  417.700012 -29.35   -6.57   \n",
       "9        CIPLA  892.000000  976.049988  890.650024  965.000000  65.05    7.23   \n",
       "33        NTPC  133.199997  134.050003  128.000000  128.649994  -6.55   -4.84   \n",
       "10   COALINDIA  157.750000  159.399994  155.350006  155.899994  -2.65   -1.67   \n",
       "6   BHARTIARTL  763.000000  763.000000  733.099976  735.849976 -29.30   -3.83   \n",
       "\n",
       "    Volume (lacs)  Turnover (crs.)        52w H       52w L  365 d % chng  \\\n",
       "42         517.88      2430.360107   536.700012  156.699997        167.95   \n",
       "26         270.27       610.539978   265.299988  192.399994         15.35   \n",
       "38         263.06      1249.550049   542.299988  240.149994         93.42   \n",
       "34         231.36       344.329987   172.750000   77.050003         82.86   \n",
       "22         189.88      1385.859985   867.000000  465.799988         52.41   \n",
       "20         148.26       631.929993   551.849976  220.350006         86.93   \n",
       "9          144.59      1380.900024  1005.000000  726.500000         31.89   \n",
       "33         133.24       173.940002   152.100006   88.150002         36.93   \n",
       "10         118.30       185.500000   203.800003  123.250000         25.78   \n",
       "6          111.43       830.059998   781.799988  454.109985         58.55   \n",
       "\n",
       "    30 d % chng  \n",
       "42        -9.68  \n",
       "26        -5.53  \n",
       "38        -8.30  \n",
       "34        -9.41  \n",
       "22       -13.14  \n",
       "20       -14.06  \n",
       "9          6.34  \n",
       "33       -10.16  \n",
       "10       -10.94  \n",
       "6          5.70  "
      ]
     },
     "execution_count": 24,
     "metadata": {},
     "output_type": "execute_result"
    }
   ],
   "source": [
    "data.sort_values('Volume (lacs)',ascending = False).head(10)"
   ]
  },
  {
   "cell_type": "code",
   "execution_count": 25,
   "id": "e699667d",
   "metadata": {},
   "outputs": [
    {
     "data": {
      "image/png": "[encoded data removed]",
      "text/plain": [
       "<Figure size 1440x1080 with 1 Axes>"
      ]
     },
     "metadata": {
      "needs_background": "light"
     },
     "output_type": "display_data"
    }
   ],
   "source": [
    "plt.figure(figsize=(20,15))\n",
    "sns.barplot(x=data['Symbol'], y=data['Volume (lacs)'])\n",
    "plt.title(\"Volume tarded in each stock\")\n",
    "plt.xticks(rotation=90)\n",
    "plt.show()"
   ]
  },
  {
   "cell_type": "raw",
   "id": "5efe81e4",
   "metadata": {},
   "source": [
    "# Highest volume traded stock is TATA MOTORS followed by ITC"
   ]
  }
 ],
 "metadata": {
  "kernelspec": {
   "display_name": "Python 3",
   "language": "python",
   "name": "python3"
  },
  "language_info": {
   "codemirror_mode": {
    "name": "ipython",
    "version": 3
   },
   "file_extension": ".py",
   "mimetype": "text/x-python",
   "name": "python",
   "nbconvert_exporter": "python",
   "pygments_lexer": "ipython3",
   "version": "3.8.8"
  }
 },
 "nbformat": 4,
 "nbformat_minor": 5
}
